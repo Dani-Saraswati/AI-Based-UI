{
 "cells": [
  {
   "cell_type": "code",
   "execution_count": null,
   "id": "3ea58c4a",
   "metadata": {},
   "outputs": [
    {
     "ename": "",
     "evalue": "",
     "output_type": "error",
     "traceback": [
      "\u001b[1;31mRunning cells with 'venv' requires the ipykernel package.\n",
      "\u001b[1;31mRun the following command to install 'ipykernel' into the Python environment. \n",
      "\u001b[1;31mCommand: '\"f:/Desktop/AI Based UI/venv/Scripts/python.exe\" -m pip install ipykernel -U --force-reinstall'"
     ]
    }
   ],
   "source": [
    "import cv2\n",
    "from cvzone.HandTrackingModule import HandDetector\n",
    "from time import sleep\n",
    "from pynput.keyboard import Controller\n",
    "cap = cv2.VideoCapture(0)\n",
    "cap.set(3,1280)\n",
    "cap.set(4,720)\n",
    "detector = HandDetector(detectionCon=1,maxHands=1)\n",
    "\n",
    "keys = [[\"Q\", \"W\", \"E\", \"R\", \"T\", \"Y\", \"U\", \"I\", \"O\", \"P\"],\n",
    "        [\"A\", \"S\", \"D\", \"F\", \"G\", \"H\", \"J\", \"K\", \"L\", \";\"],\n",
    "        [\"Z\", \"X\", \"C\", \"V\", \"B\", \"N\", \"M\", \",\", \".\", \"b\"]]\n",
    "ClickedText = \"\"\n",
    "keyboard = Controller()\n",
    "def drawALL(img,buttonList):\n",
    "    for button in buttonList:\n",
    "        x, y = button.pos\n",
    "        w, h = button.size\n",
    "        cv2.rectangle(img, button.pos, (x + w, y + h), (255, 0, 255), cv2.FILLED)\n",
    "        cv2.putText(img, button.text, (x + 20, y + 65), cv2.FONT_HERSHEY_SIMPLEX, 2, (255, 255, 255), 3)\n",
    "    return img\n",
    "class Button():\n",
    "    def __init__(self,pos,text,size=[80,80]):\n",
    "        self.pos = pos\n",
    "        self.text = text\n",
    "        self.size = size\n",
    "buttonList = []\n",
    "for i in range(len(keys)):\n",
    "    for j, key in enumerate(keys[i]):\n",
    "        buttonList.append(Button([100 * j + 50, 100 * i + 50], key))\n",
    "while True:\n",
    "    success, img = cap.read()\n",
    "    img= detector.findHands(img)\n",
    "    lmlist, bboxInfo = detector.findPosition(img)\n",
    "    drawALL(img, buttonList)\n",
    "\n",
    "    if lmlist:\n",
    "        for button in buttonList:\n",
    "            x,y = button.pos\n",
    "            w,h = button.size\n",
    "            if x<lmlist[8][0]<x+w and y<lmlist[8][1] < y+h:\n",
    "                cv2.rectangle(img, button.pos, (x + w, y + h), (255, 0, 0), cv2.FILLED)\n",
    "                cv2.putText(img, button.text, (x + 20, y + 65), cv2.FONT_HERSHEY_SIMPLEX, 2, (255, 255, 255), 3)\n",
    "                l,_,_=detector.findDistance(8,12,img)\n",
    "                if l < 50:\n",
    "                    if button.text==\"b\":\n",
    "                        ClickedText=ClickedText[:-1]\n",
    "                    else:\n",
    "                        keyboard.press(button.text)\n",
    "                        ClickedText += button.text\n",
    "                    cv2.rectangle(img, button.pos, (x + w, y + h), (0, 255, 0), cv2.FILLED)\n",
    "                    cv2.putText(img, button.text, (x + 20, y + 65), cv2.FONT_HERSHEY_SIMPLEX, 2, (255, 255, 255), 3)\n",
    "                    sleep(0.2)\n",
    "    cv2.rectangle(img, (55,345), (700,450), (255, 0, 0), cv2.FILLED)\n",
    "    cv2.putText(img, ClickedText, (60,425), cv2.FONT_HERSHEY_SIMPLEX, 2, (255, 255, 255), 3)\n",
    "\n",
    "    cv2.imshow('camera',img)\n",
    "    key = cv2.waitKey(1) & 0xFF\n",
    "    if key == ord('q'):\n",
    "        break\n",
    "cap.release()\n",
    "cv2.destroyAllWindows()"
   ]
  },
  {
   "cell_type": "code",
   "execution_count": null,
   "id": "e43fe5f0",
   "metadata": {},
   "outputs": [
    {
     "ename": "",
     "evalue": "",
     "output_type": "error",
     "traceback": [
      "\u001b[1;31mRunning cells with 'venv' requires the ipykernel package.\n",
      "\u001b[1;31mRun the following command to install 'ipykernel' into the Python environment. \n",
      "\u001b[1;31mCommand: '\"f:/Desktop/AI Based UI/venv/Scripts/python.exe\" -m pip install ipykernel -U --force-reinstall'"
     ]
    }
   ],
   "source": []
  }
 ],
 "metadata": {
  "kernelspec": {
   "display_name": "Python 3 (ipykernel)",
   "language": "python",
   "name": "python3"
  },
  "language_info": {
   "codemirror_mode": {
    "name": "ipython",
    "version": 3
   },
   "file_extension": ".py",
   "mimetype": "text/x-python",
   "name": "python",
   "nbconvert_exporter": "python",
   "pygments_lexer": "ipython3",
   "version": "3.9.0"
  }
 },
 "nbformat": 4,
 "nbformat_minor": 5
}
